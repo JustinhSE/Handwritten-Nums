{
  "nbformat": 4,
  "nbformat_minor": 0,
  "metadata": {
    "kernelspec": {
      "display_name": "Python 3",
      "name": "python3"
    },
    "language_info": {
      "name": "python"
    },
    "colab": {
      "provenance": [],
      "include_colab_link": true
    }
  },
  "cells": [
    {
      "cell_type": "markdown",
      "metadata": {
        "id": "view-in-github",
        "colab_type": "text"
      },
      "source": [
        "<a href=\"https://colab.research.google.com/github/JustinhSE/Handwritten-Nums/blob/main/godaddy_STUDENT_pytorch_ML_Bootcamp_Notebook_2024.ipynb\" target=\"_parent\"><img src=\"https://colab.research.google.com/assets/colab-badge.svg\" alt=\"Open In Colab\"/></a>"
      ]
    },
    {
      "cell_type": "markdown",
      "metadata": {
        "id": "4HVbTfeR98Wk"
      },
      "source": [
        "# Video: What is a neural network?\n",
        "\n",
        "Watch from 0:00 - 13:26\n",
        "\n",
        "[3Blue1Brown: What is a neural network?](https://www.youtube.com/watch?v=aircAruvnKk)"
      ]
    },
    {
      "cell_type": "markdown",
      "source": [
        "[![But what is a neural network?](https://img.youtube.com/vi/aircAruvnKk/0.jpg)](https://www.youtube.com/watch?v=aircAruvnKk \"But what is a neural network?\")"
      ],
      "metadata": {
        "id": "9Ixvuk8yg_35"
      }
    },
    {
      "cell_type": "markdown",
      "metadata": {
        "id": "lq4Rz2Tr9-fS"
      },
      "source": [
        "# Google Colab Notebook Setup\n",
        "Introduction to Jupyter Notebooks\n",
        "\n",
        "Colab notebooks allow you to combine executable code and rich text in a single document, along with images, HTML, LaTeX and more. Colab is a hosted Jupyter notebook service that requires no setup to use, while providing free access to computing resources including GPUs.\n"
      ]
    },
    {
      "cell_type": "markdown",
      "metadata": {
        "id": "kytQN83iELoA"
      },
      "source": [
        "**SETUP CONFIGURATION**\n",
        "\n",
        "*   Go to file -> Save a copy in Drive\n",
        "*   Open the copy, close the original"
      ]
    },
    {
      "cell_type": "markdown",
      "metadata": {
        "id": "vrInmRbdFC5e"
      },
      "source": [
        "**How to use a notebook**\n",
        "\n",
        "Create code cells with the `+ Code` button.\n",
        "\n",
        "Run code cells with the play button or shift+enter.\n",
        "\n",
        "Cells will print the value of the last object in the cell's execution.\n",
        "\n",
        "Cells can be rearanged with the arrows.\n",
        "\n",
        "Play around with the following cells.\n",
        "\n",
        "Important: If you change a cell that assigns some value to a variable, you must re-run the cell for the change to take effect!"
      ]
    },
    {
      "cell_type": "code",
      "metadata": {
        "id": "vMJzBg-up8fu"
      },
      "source": [
        "2 + 2"
      ],
      "execution_count": null,
      "outputs": []
    },
    {
      "cell_type": "code",
      "metadata": {
        "id": "rcp8ml79GmKp"
      },
      "source": [
        "a = 2"
      ],
      "execution_count": null,
      "outputs": []
    },
    {
      "cell_type": "code",
      "source": [
        "a += 3"
      ],
      "metadata": {
        "id": "BHvwgK28FXjc"
      },
      "execution_count": null,
      "outputs": []
    },
    {
      "cell_type": "code",
      "metadata": {
        "id": "o-EeKiBpHFqX"
      },
      "source": [
        "a"
      ],
      "execution_count": null,
      "outputs": []
    },
    {
      "cell_type": "code",
      "metadata": {
        "id": "MYUucGfbGxpE"
      },
      "source": [
        "def foo(x):\n",
        "    return x ** 2"
      ],
      "execution_count": null,
      "outputs": []
    },
    {
      "cell_type": "code",
      "metadata": {
        "id": "q3bZTCQMGcOx"
      },
      "source": [
        "a = foo(a)\n",
        "a"
      ],
      "execution_count": null,
      "outputs": []
    },
    {
      "cell_type": "markdown",
      "metadata": {
        "id": "0F3Hh1J6r60f"
      },
      "source": [
        "# Intro to NumPy\n",
        "NumPy is a library for the Python programming language, adding support for large, multi-dimensional arrays and matrices, along with a large collection of high-level mathematical functions to operate on these arrays.\n",
        "\n",
        "\n",
        "We will be working with the ML library PyTorch and it's associated datastructures called Tensors. Tensors are similar to NumPy's ndarrays but support additional ML features.\n",
        "\n",
        "NumPy has many uses beyond ML, so we will introduce it explicitly.\n",
        "I might use the term \"array\" and \"tensor\" interchangibly."
      ]
    },
    {
      "cell_type": "code",
      "metadata": {
        "id": "8Q7pOpblqupE"
      },
      "source": [
        "import numpy as np"
      ],
      "execution_count": null,
      "outputs": []
    },
    {
      "cell_type": "code",
      "metadata": {
        "id": "w_PzqJXcqxBh"
      },
      "source": [
        "# Create an array called X\n",
        "\n",
        "X = np.array([1,2,3,4,5])\n",
        "X"
      ],
      "execution_count": null,
      "outputs": []
    },
    {
      "cell_type": "code",
      "metadata": {
        "id": "T2o1iio7rFJo"
      },
      "source": [
        "# Get the first element of the array, at index 0\n",
        "\n",
        "X[0]"
      ],
      "execution_count": null,
      "outputs": []
    },
    {
      "cell_type": "code",
      "metadata": {
        "id": "UDHpcwKTq0tM"
      },
      "source": [
        "# Multiply every element in the array by 2. This operation is \"broadcasting\" the multiplication of the scalar across the entire array.\n",
        "# Notice this is not changing X, since we are not reassigning it.\n",
        "\n",
        "X * 2"
      ],
      "execution_count": null,
      "outputs": []
    },
    {
      "cell_type": "code",
      "source": [
        "X"
      ],
      "metadata": {
        "id": "S0v7DBCpPrcD"
      },
      "execution_count": null,
      "outputs": []
    },
    {
      "cell_type": "code",
      "source": [
        "# Dividing every element by 5, now all the elements are between 0 and 1.\n",
        "\n",
        "X / 5"
      ],
      "metadata": {
        "id": "jcowy5PxU_Ra"
      },
      "execution_count": null,
      "outputs": []
    },
    {
      "cell_type": "code",
      "metadata": {
        "id": "Hfgpb-IJriaF"
      },
      "source": [
        "# numpy arrays have many useful built-in functions that operate on the arrays.\n",
        "X.sum()"
      ],
      "execution_count": null,
      "outputs": []
    },
    {
      "cell_type": "markdown",
      "metadata": {
        "id": "Tk1xvHuap2fO"
      },
      "source": [
        "# Introduction to Deep Learning with Pytorch\n",
        "\n"
      ]
    },
    {
      "cell_type": "markdown",
      "metadata": {
        "id": "hcLNT2XTp2fP"
      },
      "source": [
        "To help you understand the fundamentals of deep learning, this demo will walk through the basic steps of building two toy models for classifying handwritten numbers with accuracies surpassing 95%. The first model will be a basic fully-connected neural network, and the second model will be a deeper network that introduces the concepts of convolution and pooling."
      ]
    },
    {
      "cell_type": "markdown",
      "metadata": {
        "id": "72d3j9K4p2fP"
      },
      "source": [
        "# The Task for the Neural Network\n",
        "\n",
        "Our goal is to construct and train an artificial neural network on thousands of images of handwritten digits so that it may successfully identify others when presented. The data that will be incorporated is the MNIST database which contains 60,000 images for training and 10,000 test images."
      ]
    },
    {
      "cell_type": "markdown",
      "metadata": {
        "id": "GGzf1cqzp2fQ"
      },
      "source": [
        "<img src=\"https://github.com/AviatorMoser/keras-mnist-tutorial/blob/master/mnist.png?raw=1\" >"
      ]
    },
    {
      "cell_type": "markdown",
      "metadata": {
        "id": "a0BCQpZSp2fQ"
      },
      "source": [
        "# Lab Section 1\n",
        "\n",
        "First, some libraries needs to be loaded into the Python environment."
      ]
    },
    {
      "cell_type": "code",
      "metadata": {
        "id": "IxMXudwbp2fQ"
      },
      "source": [
        "import numpy as np                                # vector and matrix operations library\n",
        "import matplotlib.pyplot as plt                   # library for plotting images\n",
        "import random                                     # for generating random numbers\n",
        "import torch                                      # pytorch deep learning library\n",
        "from torchvision import datasets, transforms      # MNIST dataset included in datasets, transforms for converting data types\n",
        "from torch.nn import Sequential, Linear, functional, Dropout, ReLU, Softmax     # model layers and activations operations\n",
        "from torchsummary import summary                  # tool for viewing model structure and summary"
      ],
      "execution_count": 2,
      "outputs": []
    },
    {
      "cell_type": "code",
      "metadata": {
        "collapsed": true,
        "id": "cqS2RSB8p2fM"
      },
      "source": [
        "# Run this to configure in-line visualization\n",
        "%matplotlib inline"
      ],
      "execution_count": 3,
      "outputs": []
    },
    {
      "cell_type": "markdown",
      "metadata": {
        "id": "deUi7g3Ap2fR"
      },
      "source": [
        "# Loading Training and Testing Data\n",
        "\n",
        "The MNIST dataset is conveniently bundled within pytorch.\n",
        "\n"
      ]
    },
    {
      "cell_type": "code",
      "metadata": {
        "id": "PoYfZ1-Tp2fR",
        "colab": {
          "base_uri": "https://localhost:8080/"
        },
        "outputId": "dce4a8ba-c97d-49fa-c98d-0f4ea6c27752"
      },
      "source": [
        "# The MNIST data is split between 60,000 28 x 28 pixel training images and 10,000 28 x 28 pixel testing images\n",
        "# Define a transform to convert the data to a tensor and nothing else\n",
        "transform = transforms.ToTensor()\n",
        "\n",
        "# Download and load the training data without normalization\n",
        "trainset = datasets.MNIST(root='./data', train=True, download=True, transform=transform)\n",
        "trainloader = torch.utils.data.DataLoader(trainset, batch_size=len(trainset), shuffle=False)\n",
        "\n",
        "# Download and load the test data\n",
        "testset = datasets.MNIST(root='./data', train=False, download=True, transform=transform)\n",
        "testloader = torch.utils.data.DataLoader(testset, batch_size=len(testset), shuffle=False)"
      ],
      "execution_count": 4,
      "outputs": [
        {
          "output_type": "stream",
          "name": "stdout",
          "text": [
            "Downloading http://yann.lecun.com/exdb/mnist/train-images-idx3-ubyte.gz\n",
            "Failed to download (trying next):\n",
            "HTTP Error 403: Forbidden\n",
            "\n",
            "Downloading https://ossci-datasets.s3.amazonaws.com/mnist/train-images-idx3-ubyte.gz\n",
            "Downloading https://ossci-datasets.s3.amazonaws.com/mnist/train-images-idx3-ubyte.gz to ./data/MNIST/raw/train-images-idx3-ubyte.gz\n"
          ]
        },
        {
          "output_type": "stream",
          "name": "stderr",
          "text": [
            "100%|██████████| 9912422/9912422 [00:00<00:00, 153520710.61it/s]\n"
          ]
        },
        {
          "output_type": "stream",
          "name": "stdout",
          "text": [
            "Extracting ./data/MNIST/raw/train-images-idx3-ubyte.gz to ./data/MNIST/raw\n",
            "\n",
            "Downloading http://yann.lecun.com/exdb/mnist/train-labels-idx1-ubyte.gz\n",
            "Failed to download (trying next):\n",
            "HTTP Error 403: Forbidden\n",
            "\n",
            "Downloading https://ossci-datasets.s3.amazonaws.com/mnist/train-labels-idx1-ubyte.gz\n",
            "Downloading https://ossci-datasets.s3.amazonaws.com/mnist/train-labels-idx1-ubyte.gz to ./data/MNIST/raw/train-labels-idx1-ubyte.gz\n"
          ]
        },
        {
          "output_type": "stream",
          "name": "stderr",
          "text": [
            "100%|██████████| 28881/28881 [00:00<00:00, 33969628.11it/s]"
          ]
        },
        {
          "output_type": "stream",
          "name": "stdout",
          "text": [
            "Extracting ./data/MNIST/raw/train-labels-idx1-ubyte.gz to ./data/MNIST/raw\n",
            "\n",
            "Downloading http://yann.lecun.com/exdb/mnist/t10k-images-idx3-ubyte.gz\n",
            "Failed to download (trying next):\n",
            "HTTP Error 403: Forbidden\n",
            "\n",
            "Downloading https://ossci-datasets.s3.amazonaws.com/mnist/t10k-images-idx3-ubyte.gz\n"
          ]
        },
        {
          "output_type": "stream",
          "name": "stderr",
          "text": [
            "\n"
          ]
        },
        {
          "output_type": "stream",
          "name": "stdout",
          "text": [
            "Downloading https://ossci-datasets.s3.amazonaws.com/mnist/t10k-images-idx3-ubyte.gz to ./data/MNIST/raw/t10k-images-idx3-ubyte.gz\n"
          ]
        },
        {
          "output_type": "stream",
          "name": "stderr",
          "text": [
            "100%|██████████| 1648877/1648877 [00:00<00:00, 84852357.48it/s]\n"
          ]
        },
        {
          "output_type": "stream",
          "name": "stdout",
          "text": [
            "Extracting ./data/MNIST/raw/t10k-images-idx3-ubyte.gz to ./data/MNIST/raw\n",
            "\n",
            "Downloading http://yann.lecun.com/exdb/mnist/t10k-labels-idx1-ubyte.gz\n",
            "Failed to download (trying next):\n",
            "HTTP Error 403: Forbidden\n",
            "\n",
            "Downloading https://ossci-datasets.s3.amazonaws.com/mnist/t10k-labels-idx1-ubyte.gz\n",
            "Downloading https://ossci-datasets.s3.amazonaws.com/mnist/t10k-labels-idx1-ubyte.gz to ./data/MNIST/raw/t10k-labels-idx1-ubyte.gz\n"
          ]
        },
        {
          "output_type": "stream",
          "name": "stderr",
          "text": [
            "100%|██████████| 4542/4542 [00:00<00:00, 7728409.24it/s]\n"
          ]
        },
        {
          "output_type": "stream",
          "name": "stdout",
          "text": [
            "Extracting ./data/MNIST/raw/t10k-labels-idx1-ubyte.gz to ./data/MNIST/raw\n",
            "\n"
          ]
        }
      ]
    },
    {
      "cell_type": "code",
      "source": [
        "# Extract training data and labels\n",
        "X_train, y_train = next(iter(trainloader))\n",
        "\n",
        "# Extract test data and labels\n",
        "X_test, y_test = next(iter(testloader))"
      ],
      "metadata": {
        "id": "OccYjreZSQrv"
      },
      "execution_count": 5,
      "outputs": []
    },
    {
      "cell_type": "code",
      "source": [
        "# Extract training data and labels\n",
        "X_train, y_train = next(iter(trainloader))\n",
        "\n",
        "# Extract test data and labels\n",
        "X_test, y_test = next(iter(testloader))\n",
        "\n",
        "# Remove dimensions of size 1\n",
        "X_train = X_train.squeeze()\n",
        "X_test = X_test.squeeze()\n",
        "\n",
        "# Scale pixel values to between 0 and 255\n",
        "X_train = X_train * 255\n",
        "X_test = X_test * 255"
      ],
      "metadata": {
        "id": "emTci-bvQB2y"
      },
      "execution_count": 6,
      "outputs": []
    },
    {
      "cell_type": "markdown",
      "source": [
        "**The X tensors represent the pixel values for the images, and the y tensors represents the true number label for each image.**\n",
        "\n",
        "**You can think of it like we are we will be training a classification function f that maps:**\n",
        "\n",
        "`f(X) -> y`\n",
        "\n",
        "**Both are split into two datasets. One for training and one for testing.**\n",
        "\n",
        "So, we will be training the function\n",
        "\n",
        "`f(X_train) -> y_train`\n",
        "\n",
        "and testing the performance of the function f via:\n",
        "\n",
        "`f(X_test) -> y_test`\n"
      ],
      "metadata": {
        "id": "82iWwCwHWYuX"
      }
    },
    {
      "cell_type": "code",
      "metadata": {
        "id": "j1aeTos0tp5p",
        "colab": {
          "base_uri": "https://localhost:8080/"
        },
        "outputId": "fc209a78-32ee-4025-92a4-f66895c73dcd"
      },
      "source": [
        "# Let's look at the shape of our training images tensor and training labels tensor.\n",
        "# Again we have 60,000 samples of 28x28 pixels for the training tensor, and 60,000 corresponding labels\n",
        "\n",
        "print(\"X_train shape:\", X_train.shape)\n",
        "print(\"y_train shape:\", y_train.shape)"
      ],
      "execution_count": 7,
      "outputs": [
        {
          "output_type": "stream",
          "name": "stdout",
          "text": [
            "X_train shape: torch.Size([60000, 28, 28])\n",
            "y_train shape: torch.Size([60000])\n"
          ]
        }
      ]
    },
    {
      "cell_type": "markdown",
      "metadata": {
        "id": "annvqGjzpDZH"
      },
      "source": [
        "# Question 1: What is the shape of X_test and y_test?\n",
        "Print their shapes."
      ]
    },
    {
      "cell_type": "code",
      "metadata": {
        "id": "fCfJyFDTo_ls",
        "colab": {
          "base_uri": "https://localhost:8080/"
        },
        "outputId": "34868895-c4b6-4d65-adea-7d839577e344"
      },
      "source": [
        "# Your code here:\n",
        "\n",
        "\n",
        "print(\"X_train shape:\", X_test.shape)\n",
        "print(\"y_train shape:\", y_test.shape)\n",
        "\n"
      ],
      "execution_count": 8,
      "outputs": [
        {
          "output_type": "stream",
          "name": "stdout",
          "text": [
            "X_train shape: torch.Size([10000, 28, 28])\n",
            "y_train shape: torch.Size([10000])\n"
          ]
        }
      ]
    },
    {
      "cell_type": "markdown",
      "source": [
        "**Notice the convention that tensors with multiple dimensions are capitalized (X) and tensors with only one dimension are not (y)**"
      ],
      "metadata": {
        "id": "JFu85fR2SJX8"
      }
    },
    {
      "cell_type": "markdown",
      "metadata": {
        "id": "XjkJ_akoux6X"
      },
      "source": [
        "# Question 2: What is the label of the first training image sample? Meaning, what handwritten number is it?\n",
        "Hint, look at intro to numpy for how to index arrays"
      ]
    },
    {
      "cell_type": "code",
      "metadata": {
        "id": "uLLpu_gQvZCa",
        "colab": {
          "base_uri": "https://localhost:8080/"
        },
        "outputId": "e2704c11-b22f-4ae9-e1fd-750b8aee38ab"
      },
      "source": [
        "# Your Code Here:\n",
        "y_train[0]"
      ],
      "execution_count": 14,
      "outputs": [
        {
          "output_type": "execute_result",
          "data": {
            "text/plain": [
              "tensor(5)"
            ]
          },
          "metadata": {},
          "execution_count": 14
        }
      ]
    },
    {
      "cell_type": "markdown",
      "metadata": {
        "id": "jsjAySEFvwxM"
      },
      "source": [
        "#Question 3: Display an image of the first training sample.\n",
        "\n",
        "Hint: You can use matplotlib's `plt.imshow()`"
      ]
    },
    {
      "cell_type": "code",
      "metadata": {
        "id": "wdqKs7YNjIR-",
        "colab": {
          "base_uri": "https://localhost:8080/",
          "height": 448
        },
        "outputId": "3760f068-9177-4da9-db0a-fe3e56515b4c"
      },
      "source": [
        "# Your Code Here:\n",
        "plt.imshow(X_train[0], cmap='gray')\n"
      ],
      "execution_count": 12,
      "outputs": [
        {
          "output_type": "execute_result",
          "data": {
            "text/plain": [
              "<matplotlib.image.AxesImage at 0x7a4ac9c13820>"
            ]
          },
          "metadata": {},
          "execution_count": 12
        },
        {
          "output_type": "display_data",
          "data": {
            "text/plain": [
              "<Figure size 640x480 with 1 Axes>"
            ],
            "image/png": "[encoded data removed]"
          },
          "metadata": {}
        }
      ]
    },
    {
      "cell_type": "markdown",
      "metadata": {
        "id": "uUgSMijYp2fS"
      },
      "source": [
        "# Visualize More images\n",
        "Using matplotlib, we can plot some sample images from the training set directly into this Jupyter Notebook."
      ]
    },
    {
      "cell_type": "code",
      "metadata": {
        "id": "G3vcaQx3p2fS",
        "colab": {
          "base_uri": "https://localhost:8080/",
          "height": 664
        },
        "outputId": "a7ab2599-4117-4903-9e7f-62c9fa706ba4"
      },
      "source": [
        "plt.rcParams['figure.figsize'] = (9,9) # Make the figures a bit bigger\n",
        "\n",
        "for i in range(9):\n",
        "    plt.subplot(3,3,i+1)\n",
        "    num = random.randint(0, len(X_train))\n",
        "    plt.imshow(X_train[num], cmap='gray')\n",
        "    plt.title(\"Label {}\".format(y_train[num]))\n",
        "\n",
        "plt.tight_layout()"
      ],
      "execution_count": 26,
      "outputs": [
        {
          "output_type": "display_data",
          "data": {
            "text/plain": [
              "<Figure size 900x900 with 9 Axes>"
            ],
            "image/png": "[encoded data removed]"
          },
          "metadata": {}
        }
      ]
    },
    {
      "cell_type": "markdown",
      "metadata": {
        "id": "Jo4zfWzzp2fS"
      },
      "source": [
        "What does the data really look like? Let's examine a single digit a little closer, and print out the array representing the pixel values."
      ]
    },
    {
      "cell_type": "code",
      "metadata": {
        "id": "-fynykWnp2fT"
      },
      "source": [
        "# Define a little function for pretty printing a matrix\n",
        "def matprint(mat, fmt=\"g\"):\n",
        "    col_maxes = [max([len((\"{:\"+fmt+\"}\").format(x)) for x in col]) for col in mat.T]\n",
        "    for x in mat:\n",
        "        for i, y in enumerate(x):\n",
        "            print((\"{:\"+str(col_maxes[i])+fmt+\"}\").format(y), end=\"  \")\n",
        "        print(\"\")"
      ],
      "execution_count": 27,
      "outputs": []
    },
    {
      "cell_type": "code",
      "metadata": {
        "id": "w2ysArKRfLti",
        "colab": {
          "base_uri": "https://localhost:8080/"
        },
        "outputId": "dbcf3630-d25e-4ca1-a531-ed9411b377e6"
      },
      "source": [
        "# Let's look at the pixel values for training sample at say index 7\n",
        "matprint(X_train[7])"
      ],
      "execution_count": 28,
      "outputs": [
        {
          "output_type": "stream",
          "name": "stdout",
          "text": [
            "0  0  0  0  0    0    0    0    0    0    0    0    0    0    0    0    0    0    0    0    0    0   0  0  0  0  0  0  \n",
            "0  0  0  0  0    0    0    0    0    0    0    0    0    0    0    0    0    0    0    0    0    0   0  0  0  0  0  0  \n",
            "0  0  0  0  0    0    0    0    0    0    0    0    0    0    0    0    0    0    0    0    0    0   0  0  0  0  0  0  \n",
            "0  0  0  0  0    0    0    0    0    0    0    0    0    0    0    0    0    0    0    0    0    0   0  0  0  0  0  0  \n",
            "0  0  0  0  0    0    0    0    0    0    0    0    0    0    0    0    0    0    0    0    0    0   0  0  0  0  0  0  \n",
            "0  0  0  0  0    0    0    0    0    0    0   38   43  105  255  253  253  253  253  253  174    6   0  0  0  0  0  0  \n",
            "0  0  0  0  0    0    0    0    0   43  139  224  226  252  253  252  252  252  252  252  252  158  14  0  0  0  0  0  \n",
            "0  0  0  0  0    0    0    0    0  178  252  252  252  252  253  252  252  252  252  252  252  252  59  0  0  0  0  0  \n",
            "0  0  0  0  0    0    0    0    0  109  252  252  230  132  133  132  132  189  252  252  252  252  59  0  0  0  0  0  \n",
            "0  0  0  0  0    0    0    0    0    4   29   29   24    0    0    0    0   14  226  252  252  172   7  0  0  0  0  0  \n",
            "0  0  0  0  0    0    0    0    0    0    0    0    0    0    0    0    0   85  243  252  252  144   0  0  0  0  0  0  \n",
            "0  0  0  0  0    0    0    0    0    0    0    0    0    0    0    0   88  189  252  252  252   14   0  0  0  0  0  0  \n",
            "0  0  0  0  0    0    0    0    0    0    0    0    0    0   91  212  247  252  252  252  204    9   0  0  0  0  0  0  \n",
            "0  0  0  0  0    0    0    0    0   32  125  193  193  193  253  252  252  252  238  102   28    0   0  0  0  0  0  0  \n",
            "0  0  0  0  0    0    0    0   45  222  252  252  252  252  253  252  252  252  177    0    0    0   0  0  0  0  0  0  \n",
            "0  0  0  0  0    0    0    0   45  223  253  253  253  253  255  253  253  253  253   74    0    0   0  0  0  0  0  0  \n",
            "0  0  0  0  0    0    0    0    0   31  123   52   44   44   44   44  143  252  252   74    0    0   0  0  0  0  0  0  \n",
            "0  0  0  0  0    0    0    0    0    0    0    0    0    0    0    0   15  252  252   74    0    0   0  0  0  0  0  0  \n",
            "0  0  0  0  0    0    0    0    0    0    0    0    0    0    0    0   86  252  252   74    0    0   0  0  0  0  0  0  \n",
            "0  0  0  0  0    0    5   75    9    0    0    0    0    0    0   98  242  252  252   74    0    0   0  0  0  0  0  0  \n",
            "0  0  0  0  0   61  183  252   29    0    0    0    0   18   92  239  252  252  243   65    0    0   0  0  0  0  0  0  \n",
            "0  0  0  0  0  208  252  252  147  134  134  134  134  203  253  252  252  188   83    0    0    0   0  0  0  0  0  0  \n",
            "0  0  0  0  0  208  252  252  252  252  252  252  252  252  253  230  153    8    0    0    0    0   0  0  0  0  0  0  \n",
            "0  0  0  0  0   49  157  252  252  252  252  252  217  207  146   45    0    0    0    0    0    0   0  0  0  0  0  0  \n",
            "0  0  0  0  0    0    7  103  235  252  172  103   24    0    0    0    0    0    0    0    0    0   0  0  0  0  0  0  \n",
            "0  0  0  0  0    0    0    0    0    0    0    0    0    0    0    0    0    0    0    0    0    0   0  0  0  0  0  0  \n",
            "0  0  0  0  0    0    0    0    0    0    0    0    0    0    0    0    0    0    0    0    0    0   0  0  0  0  0  0  \n",
            "0  0  0  0  0    0    0    0    0    0    0    0    0    0    0    0    0    0    0    0    0    0   0  0  0  0  0  0  \n"
          ]
        }
      ]
    },
    {
      "cell_type": "markdown",
      "metadata": {
        "id": "C8bgmsd6p2fT"
      },
      "source": [
        "Each pixel is an 8-bit integer from 0-255. 0 is full black, while 255 is full white. This what we call a single-channel pixel. It's called monochrome.\n",
        "\n",
        "*Fun-fact! Your computer screen has three channels for each pixel: red, green, blue. Each of these channels usually takes an 8-bit integer. 3 channels -- 24 bits total -- 16,777,216 possible colors!*"
      ]
    },
    {
      "cell_type": "markdown",
      "metadata": {
        "id": "X4sm5OYpp2fT"
      },
      "source": [
        "# Formatting the input data layer\n",
        "\n",
        "Instead of a 28 x 28 matrix, we build our network to accept a 784-length vector.\n",
        "\n",
        "Each image needs to be then reshaped (or flattened) into a vector."
      ]
    },
    {
      "cell_type": "markdown",
      "metadata": {
        "id": "9Hj8BkHsp2fT"
      },
      "source": [
        "<img src='https://github.com/AviatorMoser/keras-mnist-tutorial/blob/master/flatten.png?raw=1' >"
      ]
    },
    {
      "cell_type": "code",
      "metadata": {
        "id": "sOb0IzYWp2fU"
      },
      "source": [
        "X_train = X_train.flatten(start_dim=1)  # reshapes to [60000, 784]\n",
        "X_test = X_test.flatten(start_dim=1)    # reshapes to [10000, 784]\n",
        "\n",
        "print(\"Training matrix shape:\", X_train.shape)\n",
        "print(\"Testing matrix shape:\", X_test.shape)"
      ],
      "execution_count": null,
      "outputs": []
    },
    {
      "cell_type": "markdown",
      "metadata": {
        "id": "N3L-BsZZx1Nv"
      },
      "source": [
        "# Normalization\n",
        "We'll also normalize the inputs to be in the range [0-1] rather than [0-255]. Normalizing inputs is generally recommended, so that any additional dimensions (for other network architectures) are of the same scale. E.g that the network’s learning regards all input features to a similar extent.\n",
        "\n",
        "(Yes, pytorch had originally normalized the datasets, but we looked at them in native 0-255 for illustrative purposes.)"
      ]
    },
    {
      "cell_type": "markdown",
      "metadata": {
        "id": "17RJYH_yhNG4"
      },
      "source": [
        "# Question 4: Normalize all values in the X tensors to be between 0.0 and 1.0\n",
        "\n",
        "We need to normalize each value for each pixel for the entire vector for each input. Normalization is important to balance inputs, reducing the imact of the differences in the scale of the features. This also improves training convergence by keeping the weights and activations within a reasonable range.\n",
        "\n",
        "You will not need any loops.\n",
        "\n",
        "Remember, all the values currently are between 0.0 and 255.0\n",
        "\n",
        "Hint: Review the intro to numpy at the top of this notebook"
      ]
    },
    {
      "cell_type": "code",
      "metadata": {
        "id": "hKUXc6A-higx"
      },
      "source": [
        "# Set your Answers to these variables.\n",
        "X_train_norm = X_train/255\n",
        "X_test_norm = X_test/255"
      ],
      "execution_count": 16,
      "outputs": []
    },
    {
      "cell_type": "code",
      "metadata": {
        "id": "YKN6BDOGxot5"
      },
      "source": [
        "#Your Code Here\n"
      ],
      "execution_count": null,
      "outputs": []
    },
    {
      "cell_type": "code",
      "metadata": {
        "id": "b_JS6bDKiXLO"
      },
      "source": [
        "# Test: This will print nothing if your normalization is correct.\n",
        "assert X_train_norm.sum() == 6146269.\n",
        "assert X_test_norm.sum() == 1038914.5625"
      ],
      "execution_count": 17,
      "outputs": []
    },
    {
      "cell_type": "markdown",
      "metadata": {
        "id": "6G4g2NHtp2fV"
      },
      "source": [
        "# Building a 3-layer fully connected network\n",
        "\n",
        "<img src=\"https://github.com/AviatorMoser/keras-mnist-tutorial/blob/master/figure.png?raw=1\" />"
      ]
    },
    {
      "cell_type": "markdown",
      "metadata": {
        "id": "tDQysF7Op2fV"
      },
      "source": [
        "# Define the first hidden layer"
      ]
    },
    {
      "cell_type": "code",
      "metadata": {
        "collapsed": true,
        "id": "pBhZrmoyp2fW"
      },
      "source": [
        "# The first hidden layer is a Linear layer, a set of 512 nodes (\"artificial neurons\").\n",
        "# Each node will receive an element from each input vector and apply some weight and bias to it.\n",
        "\n",
        "# So, the layer takes as input a vector of length 784, and outputs a vector of length 512, one for each node.\n",
        "layer1 = Linear(784, 512) #brings in 784 pixels and 512 nodes are given out"
      ],
      "execution_count": 19,
      "outputs": []
    },
    {
      "cell_type": "code",
      "source": [],
      "metadata": {
        "id": "cYQJGZgKR-qG"
      },
      "execution_count": null,
      "outputs": []
    },
    {
      "cell_type": "markdown",
      "metadata": {
        "id": "khnzvh48lFe8"
      },
      "source": [
        "# Question 6: Where did the number 784 come from?"
      ]
    },
    {
      "cell_type": "markdown",
      "metadata": {
        "id": "K316_YC2lRmI"
      },
      "source": [
        "Write answer here: the dimensions cuz 28x28 pixels\n",
        "\n"
      ]
    },
    {
      "cell_type": "markdown",
      "metadata": {
        "id": "4aZcSKx4l4z4"
      },
      "source": [
        "# Activation"
      ]
    },
    {
      "cell_type": "code",
      "metadata": {
        "collapsed": true,
        "id": "WPXffmxnp2fW"
      },
      "source": [
        "# An \"activation\" is a non-linear function applied to the output of the layer above.\n",
        "# It checks the new value of the node, and decides whether that artifical neuron has fired.\n",
        "# The Rectified Linear Unit (ReLU) converts all negative inputs to nodes in the next layer to be zero.\n",
        "# Those inputs are then not considered to be fired.\n",
        "# Positive values of a node are unchanged.\n",
        "\n",
        "activation1 = ReLU()"
      ],
      "execution_count": 20,
      "outputs": []
    },
    {
      "cell_type": "markdown",
      "metadata": {
        "id": "X-dyHQQNlvxi"
      },
      "source": [
        "$$f(x) = max (0,x)$$\n",
        "\n",
        "\n"
      ]
    },
    {
      "cell_type": "markdown",
      "metadata": {
        "id": "26F5n8qwp2fW"
      },
      "source": [
        "\n",
        "<img src = 'https://github.com/AviatorMoser/keras-mnist-tutorial/blob/master/relu.jpg?raw=1' >"
      ]
    },
    {
      "cell_type": "code",
      "metadata": {
        "collapsed": true,
        "id": "DygNNePVp2fW"
      },
      "source": [
        "# Dropout zeroes a selection of random outputs during training (i.e., disables their activation)\n",
        "# Dropout helps protect the model from memorizing or \"overfitting\" the training data.\n",
        "# Don't worry about it for now.\n",
        "\n",
        "dropout1 = Dropout(0.2)"
      ],
      "execution_count": 21,
      "outputs": []
    },
    {
      "cell_type": "markdown",
      "metadata": {
        "id": "Y0ANe5rRp2fW"
      },
      "source": [
        "# Defining the second hidden layer"
      ]
    },
    {
      "cell_type": "code",
      "metadata": {
        "collapsed": true,
        "id": "AUA79koqp2fY"
      },
      "source": [
        "# The second hidden layer appears identical to our first layer.\n",
        "# However, instead of each of the 512-node receiving 784-inputs from the input image data,\n",
        "# they receive 512 inputs from the output of the first 512-node layer.\n",
        "\n",
        "layer2 = Linear(512, 512) #512 neurons\n",
        "activation2 = ReLU()\n",
        "\n",
        "dropout2 = Dropout(0.2)"
      ],
      "execution_count": 22,
      "outputs": []
    },
    {
      "cell_type": "markdown",
      "metadata": {
        "id": "Vrfouz1fp2fY"
      },
      "source": [
        "# Question 7: Defining the Final Output Layer\n",
        "\n",
        "1. The output size of the final layer of a fully-connected-network should be equal to the number of desired labels (10 in this case). So, the final layer should have 10 neurons fully-connected to the previous 512-node layer.\n",
        "\n",
        "\n",
        "\n",
        "2. Then, define a softmax activation.\n",
        "The \"softmax\" activation represents a probability distribution over K different possible outcomes.\n",
        "Its values are all non-negative and sum to 1.\n",
        "https://en.wikipedia.org/wiki/Softmax_function\n",
        "\n",
        "For example, if the final output form the last layer is:\n",
        "```\n",
        "[0, 0.94, 0, 0, 0, 0, 0.06, 0, 0]\n",
        "```\n",
        "then the model is predicting the most probable image is the digit `1`.\n",
        "\n",
        "\n",
        "Hint: Softmax is a built-in activation. Look at these docs:\n",
        "https://pytorch.org/docs/stable/generated/torch.nn.Softmax.html\n",
        "\n",
        "If you explicitly specify a dim, use dim=0 to specify the feature dimension since we removed the batch dim while exploring the data.\n"
      ]
    },
    {
      "cell_type": "code",
      "source": [
        "# Use these variables.\n",
        "\n",
        "layer3 = Linear(512,10)\n",
        "activation3 = Softmax(dim=0) #based on distribution, pick most likely value"
      ],
      "metadata": {
        "id": "5aMn2VN3XWgg"
      },
      "execution_count": 23,
      "outputs": []
    },
    {
      "cell_type": "markdown",
      "source": [
        "# Assemble the model"
      ],
      "metadata": {
        "id": "iLQCTVfe5rf3"
      }
    },
    {
      "cell_type": "code",
      "metadata": {
        "id": "JHV11Fvjp2fZ"
      },
      "source": [
        "# Define the complete model\n",
        "\n",
        "model = Sequential(\n",
        "    layer1,\n",
        "    activation1,\n",
        "    dropout1,\n",
        "    layer2,\n",
        "    activation2,\n",
        "    dropout2,\n",
        "    layer3,\n",
        "    activation3\n",
        ")"
      ],
      "execution_count": 24,
      "outputs": []
    },
    {
      "cell_type": "code",
      "source": [
        "# Print the summary of the model\n",
        "summary(model, input_size=(1, 784), device='cpu')"
      ],
      "metadata": {
        "id": "kXUNC4ZHXnIQ",
        "colab": {
          "base_uri": "https://localhost:8080/"
        },
        "outputId": "2c34932e-37b8-4568-8247-f7b54794b62a"
      },
      "execution_count": 25,
      "outputs": [
        {
          "output_type": "stream",
          "name": "stdout",
          "text": [
            "----------------------------------------------------------------\n",
            "        Layer (type)               Output Shape         Param #\n",
            "================================================================\n",
            "            Linear-1               [-1, 1, 512]         401,920\n",
            "              ReLU-2               [-1, 1, 512]               0\n",
            "           Dropout-3               [-1, 1, 512]               0\n",
            "            Linear-4               [-1, 1, 512]         262,656\n",
            "              ReLU-5               [-1, 1, 512]               0\n",
            "           Dropout-6               [-1, 1, 512]               0\n",
            "            Linear-7                [-1, 1, 10]           5,130\n",
            "           Softmax-8                [-1, 1, 10]               0\n",
            "================================================================\n",
            "Total params: 669,706\n",
            "Trainable params: 669,706\n",
            "Non-trainable params: 0\n",
            "----------------------------------------------------------------\n",
            "Input size (MB): 0.00\n",
            "Forward/backward pass size (MB): 0.02\n",
            "Params size (MB): 2.55\n",
            "Estimated Total Size (MB): 2.58\n",
            "----------------------------------------------------------------\n"
          ]
        }
      ]
    },
    {
      "cell_type": "markdown",
      "metadata": {
        "id": "X0oEJR2-EZwS"
      },
      "source": [
        "Read the model summary and verify your model has 669,706 trainable parameters."
      ]
    },
    {
      "cell_type": "markdown",
      "metadata": {
        "id": "OjYiDenxCxov"
      },
      "source": [
        "# Bonus Question: Why does the model have 669,706 trainable parameters?\n",
        "Whats the formula for FCN layer parameters?\n",
        "Can you compute and verify the number of params for each layer on your own? Do they sum to 669,706?\n"
      ]
    },
    {
      "cell_type": "code",
      "metadata": {
        "id": "95HOQv0ZDeCG"
      },
      "source": [
        "# Your Code Here\n",
        "\n",
        "#layer params = input shape * output shape * bias params which are the same as output shape\n"
      ],
      "execution_count": null,
      "outputs": []
    },
    {
      "cell_type": "markdown",
      "metadata": {
        "id": "9-8dn-lnnpdL"
      },
      "source": [
        "# Lab section complete!\n",
        "\n",
        "If you are done early, feel free to explore the following interactive ML blogs:\n",
        "\n",
        "https://openai.com/index/clip\n",
        "\n",
        "You should be able to understand the references to MNIST in the blog, however the references to CNNs will make sense after part 2 of the lab.\n",
        "\n"
      ]
    },
    {
      "cell_type": "markdown",
      "metadata": {
        "id": "mxhph7vzHydx"
      },
      "source": [
        "# Gradient Descent; How Neural Networks Learn\n",
        "[3Blue1Brown: Gradient descent, how neural networks learn](https://youtu.be/IHZwWFHWa-w?t=109)\n",
        "\n",
        "Watch from 1:49 - 16:38"
      ]
    },
    {
      "cell_type": "markdown",
      "source": [
        "[![But what is a neural network?](https://img.youtube.com/vi/aircAruvnKk/0.jpg)](https://www.youtube.com/watch?v=IHZwWFHWa-w&t=109s&ab_channel=3Blue1Brown \"But what is a neural network?\")"
      ],
      "metadata": {
        "id": "rWZFjIC9bKAx"
      }
    },
    {
      "cell_type": "markdown",
      "metadata": {
        "id": "4JdhL_QtsSzN"
      },
      "source": [
        "# **Lab Section 2**"
      ]
    },
    {
      "cell_type": "markdown",
      "metadata": {
        "id": "gch7M9NAp2fZ"
      },
      "source": [
        "# Compiling the model\n",
        "\n",
        "Pytorch allow you to define a *computation graph*, which then compiles and runs efficiently on the CPU or GPU without the overhead of the Python interpreter.\n",
        "\n",
        "When compiling a model, PyTorch asks you to specify your **criterion (loss function)** and your **optimizer**."
      ]
    },
    {
      "cell_type": "markdown",
      "metadata": {
        "id": "GWz7UZfqtWTZ"
      },
      "source": [
        "# Loss Function\n",
        "The loss function we'll use here is called *categorical cross-entropy*, and is a loss function well-suited to comparing two probability distributions.\n",
        "\n",
        "Our predictions are probability distributions across the ten different digits (e.g. \"we're 70% confident this image is a 3, 20% sure it's an 8, 10% it's a 2, etc.\"), and the target is a probability distribution with 100% for the correct category, and 0 for everything else. The cross-entropy is a measure of how different your predicted distribution is from the target distribution. [More detail at Wikipedia](https://en.wikipedia.org/wiki/Cross_entropy)\n",
        "\n",
        "\n",
        "<img src = \"https://miro.medium.com/max/919/1*ETtY7KCrzAlOmLeyDWE4Xg.png\" >\n",
        "\n"
      ]
    },
    {
      "cell_type": "markdown",
      "metadata": {
        "id": "SeeftG04swdW"
      },
      "source": [
        "# Optimizer\n",
        "The optimizer helps determine how quickly the model learns through **gradient descent**. The rate at which descends a gradient is called the **learning rate**."
      ]
    },
    {
      "cell_type": "markdown",
      "metadata": {
        "id": "gwifoD2Yp2fa"
      },
      "source": [
        "<img src = \"https://github.com/AviatorMoser/keras-mnist-tutorial/blob/master/gradient_descent.png?raw=1\" >\n",
        "<img src = 'https://github.com/AviatorMoser/keras-mnist-tutorial/blob/master/learning_rate.png?raw=1' >\n"
      ]
    },
    {
      "cell_type": "markdown",
      "metadata": {
        "id": "ZCOxhzvXp2fa"
      },
      "source": [
        "So are smaller learning rates better? Not quite! It's important for an optimizer not to get stuck in local minima while neglecting the global minimum of the loss function. Sometimes that means trying a larger learning rate to jump out of a local minimum."
      ]
    },
    {
      "cell_type": "markdown",
      "metadata": {
        "id": "9Ck3GCLip2fa"
      },
      "source": [
        "<img src = 'https://github.com/AviatorMoser/keras-mnist-tutorial/blob/master/complicated_loss_function.png?raw=1' >\n"
      ]
    },
    {
      "cell_type": "markdown",
      "metadata": {
        "id": "BkpTKxp_uHtP"
      },
      "source": [
        "# Compile the model"
      ]
    },
    {
      "cell_type": "code",
      "metadata": {
        "collapsed": true,
        "id": "5YkcSwRmp2fa"
      },
      "source": [
        "# Let's use the Adam optimizer for learning\n",
        "# Adam (Adaptive Moment Estimation) is an optimizer that leverages momentum, as well as a few other tricks.\n",
        "# Imagine a ball rolling down the high dimension hills, but keeping momentum to jump over the small bumps!\n",
        "\n",
        "# Define the optimizer and loss function\n",
        "optimizer = torch.optim.Adam(model.parameters(), lr=0.001)\n",
        "criterion = torch.nn.CrossEntropyLoss()\n"
      ],
      "execution_count": 29,
      "outputs": []
    },
    {
      "cell_type": "markdown",
      "metadata": {
        "id": "ZGZ-Csgsp2fa"
      },
      "source": [
        "# Train the model!\n",
        "This is the fun part!"
      ]
    },
    {
      "cell_type": "markdown",
      "metadata": {
        "id": "6Ebdn8u_p2fb"
      },
      "source": [
        "The batch size determines over how much data per step is used to compute the loss function, gradients, and back propagation. Large batch sizes allow the network to complete it's training faster; however, there are other factors beyond training speed to consider.\n",
        "\n",
        "Too large of a batch size smoothes the local minima of the loss function, causing the optimizer to settle in one because it thinks it found the global minimum.\n",
        "\n",
        "Too small of a batch size creates a very noisy loss function, and the optimizer may never find the global minimum.\n",
        "\n",
        "So a good batch size may take some trial and error to find!\n",
        "\n",
        "\n",
        "Epochs represent the number of times the model will see the entire dataset. So 5 epochs means 5 passes on the entire training dataset.\n",
        "\n",
        "This make take a few minutes to run, watch the bottom of this cell as it prints metrics for each epoch.\n"
      ]
    },
    {
      "cell_type": "code",
      "metadata": {
        "id": "_qIdIRaMp2fb",
        "colab": {
          "base_uri": "https://localhost:8080/"
        },
        "outputId": "7a2ce9f6-9478-44fa-bb56-c790e2b3635d"
      },
      "source": [
        "# These hardcoded paramteters such as batch size and epoch are what are called hyperparamters. These are adjusted by the developer.\n",
        "batch_size = 90\n",
        "epochs = 7\n",
        "\n",
        "# Training loop\n",
        "for epoch in range(epochs):\n",
        "    model.train()  # Set the model to training mode\n",
        "    # Initialize some variables to collect metrics\n",
        "    running_loss = 0.0\n",
        "    correct = 0\n",
        "    total = 0\n",
        "\n",
        "    # Shuffle the data\n",
        "    train_size = X_train_norm.size(0)\n",
        "    permutation = torch.randperm(train_size)\n",
        "\n",
        "    for i in range(0, train_size, batch_size):\n",
        "        indices = permutation[i : i + batch_size]\n",
        "        batch_x, batch_y = X_train_norm[indices], y_train[indices]\n",
        "\n",
        "        batch_x = batch_x.view(batch_x.size(0), -1) # New line of code\n",
        "\n",
        "        # Zero the parameter gradients\n",
        "        optimizer.zero_grad()\n",
        "\n",
        "        # Forward pass\n",
        "        outputs = model(batch_x)\n",
        "\n",
        "        # Compute the loss\n",
        "        loss = criterion(outputs, batch_y)\n",
        "\n",
        "        # Backward pass and optimize\n",
        "        loss.backward()\n",
        "        optimizer.step()\n",
        "\n",
        "        # Collect Metrics\n",
        "        running_loss += loss.item()\n",
        "        predicted = torch.max(outputs, 1).indices\n",
        "        total += batch_y.size(0)\n",
        "        correct += (predicted == batch_y).sum().item()\n",
        "\n",
        "    # Print epoch statistics\n",
        "    print(f'Epoch [{epoch+1}/{epochs}], Loss: {running_loss/len(trainloader):.4f}, Accuracy: {100 * correct/total:.2f}%')"
      ],
      "execution_count": 38,
      "outputs": [
        {
          "output_type": "stream",
          "name": "stdout",
          "text": [
            "Epoch [1/7], Loss: 1470.1544, Accuracy: 91.83%\n",
            "Epoch [2/7], Loss: 1470.0971, Accuracy: 92.66%\n",
            "Epoch [3/7], Loss: 1469.9722, Accuracy: 93.50%\n",
            "Epoch [4/7], Loss: 1469.8564, Accuracy: 94.24%\n",
            "Epoch [5/7], Loss: 1469.8734, Accuracy: 94.36%\n",
            "Epoch [6/7], Loss: 1469.8085, Accuracy: 94.87%\n",
            "Epoch [7/7], Loss: 1469.7682, Accuracy: 95.10%\n"
          ]
        }
      ]
    },
    {
      "cell_type": "markdown",
      "metadata": {
        "id": "Mx6EWh2sp2fb"
      },
      "source": [
        "The two numbers, loss and accuracy, represent the value of the loss function of the network on the training set, and the overall accuracy of the network on the **training** data. But let's examine how it performs on data it did not train on!\n",
        "\n"
      ]
    },
    {
      "cell_type": "markdown",
      "metadata": {
        "id": "ohaeCjXZp2fc"
      },
      "source": [
        "# Evaluate Model's Accuracy on Test Data"
      ]
    },
    {
      "cell_type": "code",
      "metadata": {
        "id": "41iQE2Lep2fc",
        "colab": {
          "base_uri": "https://localhost:8080/"
        },
        "outputId": "78689f02-294c-4a4e-eb06-029009f2c4ef"
      },
      "source": [
        "model.eval()  # Set the model to evaluation mode\n",
        "with torch.no_grad():\n",
        "    X_test_norm = X_test_norm.view(X_test_norm.size(0), -1) # New line of code\n",
        "\n",
        "    outputs = model(X_test_norm)\n",
        "    predicted = torch.max(outputs, 1).indices\n",
        "    accuracy = (predicted == y_test).sum().item() / len(y_test)\n",
        "    print(f'Accuracy of the model on the 10000 test images: {100 * accuracy:.2f}%')\n",
        "    incorrect_count = (predicted != y_test).sum().item()\n",
        "    print(f'Number of incorrect predictions: {incorrect_count}')"
      ],
      "execution_count": 39,
      "outputs": [
        {
          "output_type": "stream",
          "name": "stdout",
          "text": [
            "Accuracy of the model on the 10000 test images: 95.24%\n",
            "Number of incorrect predictions: 476\n"
          ]
        }
      ]
    },
    {
      "cell_type": "markdown",
      "metadata": {
        "id": "7wzxe9mRp2fc"
      },
      "source": [
        "# Inspecting the output\n",
        "\n",
        "It's always a good idea to inspect the output and make sure everything looks sensible. Here we'll look at some examples it gets right, and some examples it gets wrong."
      ]
    },
    {
      "cell_type": "code",
      "source": [
        "# Check which items we got right / wrong\n",
        "\n",
        "correct_indices = (predicted == y_test).nonzero(as_tuple=True)[0]\n",
        "incorrect_indices = (predicted != y_test).nonzero(as_tuple=True)[0]"
      ],
      "metadata": {
        "id": "8fMV1mD9DZi4"
      },
      "execution_count": 35,
      "outputs": []
    },
    {
      "cell_type": "code",
      "metadata": {
        "id": "uw776pLMp2fc",
        "colab": {
          "base_uri": "https://localhost:8080/",
          "height": 664
        },
        "outputId": "2a34473c-95f8-4532-8184-ce9987003b38"
      },
      "source": [
        "# Test Samples that our model predicted correctly\n",
        "\n",
        "plt.figure()\n",
        "for i, correct in enumerate(correct_indices[:9]):\n",
        "    plt.subplot(3,3,i+1)\n",
        "    plt.imshow(X_test_norm[correct].reshape(28,28), cmap='gray', interpolation='none')\n",
        "    plt.title(\"Predicted: {}, Actual Label: {}\".format(predicted[correct], y_test[correct]))\n",
        "\n",
        "plt.tight_layout()\n"
      ],
      "execution_count": 36,
      "outputs": [
        {
          "output_type": "display_data",
          "data": {
            "text/plain": [
              "<Figure size 900x900 with 9 Axes>"
            ],
            "image/png": "[encoded data removed]"
          },
          "metadata": {}
        }
      ]
    },
    {
      "cell_type": "code",
      "metadata": {
        "id": "anr4GAGyMxrv",
        "colab": {
          "base_uri": "https://localhost:8080/",
          "height": 664
        },
        "outputId": "7f9b515c-a986-4c24-97a6-5e96d7446d0a"
      },
      "source": [
        "# Test Samples that our model predicted incorrectly\n",
        "\n",
        "plt.figure()\n",
        "for i, incorrect in enumerate(incorrect_indices[:9]):\n",
        "    plt.subplot(3,3,i+1)\n",
        "    plt.imshow(X_test_norm[incorrect].reshape(28,28), cmap='gray', interpolation='none')\n",
        "    plt.title(\"Predicted: {}, Actual Label: {}\".format(predicted[incorrect], y_test[incorrect]))\n",
        "\n",
        "plt.tight_layout()"
      ],
      "execution_count": 37,
      "outputs": [
        {
          "output_type": "display_data",
          "data": {
            "text/plain": [
              "<Figure size 900x900 with 9 Axes>"
            ],
            "image/png": "[encoded data removed]"
          },
          "metadata": {}
        }
      ]
    },
    {
      "cell_type": "markdown",
      "metadata": {
        "id": "9BLvK7JBvvVq"
      },
      "source": [
        "# Question 8: What do you notice about the sample that the network got wrong? Any difference between the samples that the model predicted correctly vs incorrectly?\n"
      ]
    },
    {
      "cell_type": "markdown",
      "metadata": {
        "id": "cj5xQ3_cwF6I"
      },
      "source": [
        "Write your answer here:\n"
      ]
    },
    {
      "cell_type": "code",
      "source": [],
      "metadata": {
        "id": "TnvdGblDcBn0"
      },
      "execution_count": null,
      "outputs": []
    },
    {
      "cell_type": "markdown",
      "metadata": {
        "id": "azn1TZfpp2fd"
      },
      "source": [
        "# Question 9: Time for a comptetition! Adjust your model architecture and configuration to try to achieve a better performance. This is called hyperparameter tuning.\n",
        "\n",
        "Try adjusting any of the following:\n",
        "\n",
        "* adding more layers\n",
        "* adjusting the number of neurons in your hidden layers\n",
        "* using different activation functions\n",
        "* removing dropout\n",
        "* increasing or decreasing the batch size\n",
        "* changing the number of epochs\n",
        "* change your learning rate\n",
        "* use a different optimizer\n",
        "\n",
        "\n",
        "Let's see who can make the best model! Winner gets bragging rights\n",
        "\n",
        "Remember, to re run cells including model definition compilation if you change hyperparameters"
      ]
    },
    {
      "cell_type": "markdown",
      "metadata": {
        "id": "j_wErv-Dw9vo"
      },
      "source": [
        "# Lab Section Complete\n",
        "If you finished early, try to improve your model. Remember if you change something about the network, you need to re-run all the cells that define and compile the network."
      ]
    },
    {
      "cell_type": "markdown",
      "metadata": {
        "id": "mb_29KDVp2fd"
      },
      "source": [
        "# Introducing Convolutional Neural Networks!\n",
        "\n",
        "What are Convolutions?\n"
      ]
    },
    {
      "cell_type": "markdown",
      "metadata": {
        "id": "q-9vq6SWp2fd"
      },
      "source": [
        "Previously, we built a network that accepts the normalized pixel values of each value and operates solely on those values. What if we could instead feed different features (e.g. **curvature, edges**) of each image into a network, and have the network learn which features are important for classifying an image?\n",
        "\n",
        "This is possible through convolution! Convolution applies **kernels** (filters) that traverse through each image and generate **feature maps**."
      ]
    },
    {
      "cell_type": "markdown",
      "metadata": {
        "id": "rqbsdAjxp2fd"
      },
      "source": [
        "\n",
        "<img src = 'https://miro.medium.com/max/1400/1*Fw-ehcNBR9byHtho-Rxbtw.gif' >\n",
        "\n",
        "<img src = 'https://i.stack.imgur.com/9OZKF.gif' >"
      ]
    },
    {
      "cell_type": "markdown",
      "metadata": {
        "id": "ITj7yobup2fd"
      },
      "source": [
        "In the above example, the kernel is a 3 x 3 matrix that is being slidded over the input image the image matrix. A dot product operation takes place between the image and the kernel and the convolved feature is generated.\n",
        "\n",
        "Kernels are often used in photoediting software to apply blurring, edge detection, sharpening, etc."
      ]
    },
    {
      "cell_type": "markdown",
      "metadata": {
        "id": "XKFc9UkQp2fk"
      },
      "source": [
        "<img src = 'https://github.com/AviatorMoser/keras-mnist-tutorial/blob/master/kernels.png?raw=1' >"
      ]
    },
    {
      "cell_type": "markdown",
      "metadata": {
        "id": "GzISfJRBp2fk"
      },
      "source": [
        "\n",
        "\n",
        "Kernels in deep learning networks are used in similar ways, i.e. highlighting some feature. Combined with a system called **max pooling**, the non-highlighted elements are discarded from each feature map, leaving only the features of interest, reducing the number of learned parameters, and decreasing the computational cost (e.g. system memory)."
      ]
    },
    {
      "cell_type": "markdown",
      "metadata": {
        "id": "9p3-hQipp2fl"
      },
      "source": [
        "<img src = 'https://github.com/AviatorMoser/keras-mnist-tutorial/blob/master/max_pooling.png?raw=1' >"
      ]
    },
    {
      "cell_type": "markdown",
      "metadata": {
        "id": "HLS93Txpp2fl"
      },
      "source": [
        "Each kernel in a CNN learns a different characteristic of an image.\n",
        "\n",
        "We can also take convolutions of convolutions -- we can stack as many convolutions as we want, as long as there are enough pixels to fit a kernel.\n",
        "\n",
        "*Warning: What you may find down there in those deep convolutions may not appear recognizable to you.*"
      ]
    },
    {
      "cell_type": "markdown",
      "metadata": {
        "id": "u_I4NSMyp2fl"
      },
      "source": [
        "<img src = 'https://www.kernix.com/doc/classification-cnn@2x-1.jpg' >\n"
      ]
    },
    {
      "cell_type": "markdown",
      "source": [
        "The kernels are not operating on each feature map independently, but rather are multidimensional kernals that operate on all the feature maps.\n",
        "\n",
        "<img src = 'https://i.stack.imgur.com/2ezvr.gif' >\n",
        "\n",
        "\n",
        "<img src = 'https://media.fs.com/images/community/erp/iNs3p_2KZeGD.png' >\n"
      ],
      "metadata": {
        "id": "AeMZRhrGgAsA"
      }
    },
    {
      "cell_type": "markdown",
      "source": [
        "**At the top of the notebook, click Runtime -> Change runtime type -> Select the bubble under Hardware Accelerator to T4 GPU -> Save**\n"
      ],
      "metadata": {
        "id": "_bwCKxDmhOQl"
      }
    },
    {
      "cell_type": "code",
      "source": [
        "# Check if GPU is connected\n",
        "# If this prints \"cuda\", pytorch is connected to a GPU.\n",
        "# CUDA is the NVIDIA software layer that provides access to NVIDA GPUs.\n",
        "import torch\n",
        "\n",
        "device = torch.device(\"cuda\" if torch.cuda.is_available() else \"cpu\")\n",
        "print(f\"Using device: {device}\")"
      ],
      "metadata": {
        "id": "-iyOxJmqjqJ6"
      },
      "execution_count": null,
      "outputs": []
    },
    {
      "cell_type": "markdown",
      "metadata": {
        "id": "gjzl_svKp2fl"
      },
      "source": [
        "# Question 10: Building a Convolutional Neural Network\n",
        "Note, our network will not be very deep. Modern networks can have 10 to 100+ layers each of which are far more complex."
      ]
    },
    {
      "cell_type": "code",
      "source": [
        "# After changing runtime, the notebook may restart. So, we need to re-import libraries.\n",
        "\n",
        "import torch\n",
        "from torchvision import datasets, transforms\n",
        "from torch.nn import Sequential, Conv2d, MaxPool2d, Flatten, Linear, Dropout, ReLU, BatchNorm2d\n",
        "from torchsummary import summary"
      ],
      "metadata": {
        "id": "ew5sOwomZXD3"
      },
      "execution_count": 40,
      "outputs": []
    },
    {
      "cell_type": "markdown",
      "source": [
        "Let's define our network in the more common pytorch style format, as a subclass of `torch.nn.Module`."
      ],
      "metadata": {
        "id": "SwHnHiskk-bH"
      }
    },
    {
      "cell_type": "markdown",
      "source": [
        "**Question 10: Fill in the conv_layer2 for this class**"
      ],
      "metadata": {
        "id": "Ut6vqrIRZvON"
      }
    },
    {
      "cell_type": "code",
      "source": [
        "# Define the CNN model\n",
        "class SimpleCNN(torch.nn.Module):\n",
        "    def __init__(self):\n",
        "        super(SimpleCNN, self).__init__()\n",
        "        self.conv_layer1 = Sequential(\n",
        "            Conv2d(1, 32, kernel_size=3, stride=1, padding=1),  # output: (32, 28, 28)\n",
        "            ReLU(),\n",
        "            MaxPool2d(kernel_size=2, stride=2),  # output: (32, 14, 14)\n",
        "        )\n",
        "        self.conv_layer2 = Sequential(\n",
        "            Conv2d(32, 64, kernel_size=3, stride=1, padding=1),  # output: (64, 14, 14)\n",
        "            ReLU(),\n",
        "            MaxPool2d(kernel_size=2, stride=2),  # output: (64, 7, 7)\n",
        "        )\n",
        "\n",
        "        self.conv_layer3 = Sequential(\n",
        "            Conv2d(64, 128, kernel_size=3, stride=1, padding=1),  # output: (128, 7, 7)\n",
        "            ReLU(),\n",
        "            MaxPool2d(kernel_size=2, stride=2)  # output: (128, 3, 3)\n",
        "        )\n",
        "\n",
        "        self.fc_block = Sequential(\n",
        "            Flatten(),  # output: (128*3*3 -> 1152)\n",
        "            Linear(128*3*3, 256),\n",
        "            ReLU(),\n",
        "            Dropout(0.5),\n",
        "            Linear(256, 10)\n",
        "        )\n",
        "\n",
        "    def forward(self, x):\n",
        "        x = self.conv_layer1(x)\n",
        "        x = self.conv_layer2(x)\n",
        "        x = self.conv_layer3(x)\n",
        "        x = self.fc_block(x)\n",
        "        return x"
      ],
      "metadata": {
        "id": "hZFv6jCJkUFq"
      },
      "execution_count": 41,
      "outputs": []
    },
    {
      "cell_type": "markdown",
      "metadata": {
        "id": "J27CKiEJSzE3"
      },
      "source": [
        "# Data Augmentation\n",
        "\n",
        "Data augmentation prevents overfitting by slightly modifying the input data randomly. It's a way to increase the size of our dataset for \"free\". Importantly, the data augmentation must retain the information that defines the class. Too much augmentation could make the training samples corrupted.\n",
        "\n",
        "Each epoch, it will modify the input data in a different way.\n"
      ]
    },
    {
      "cell_type": "markdown",
      "metadata": {
        "id": "Du-oNW9YTJDI"
      },
      "source": [
        "\n",
        "\n",
        "<img src = 'https://miro.medium.com/max/1330/1*MUOrB2-H5qkJop3Kl2oYmQ.png' >"
      ]
    },
    {
      "cell_type": "code",
      "source": [
        "# These data augmentation transform parameters are also hyperparameters.\n",
        "train_transform = transforms.Compose([\n",
        "    transforms.RandomRotation(degrees=5),         # slight rotation\n",
        "    transforms.RandomAffine(degrees=0, shear=5),  # slight shear\n",
        "    transforms.ToTensor()\n",
        "])\n",
        "\n",
        "test_transform = transforms.ToTensor()"
      ],
      "metadata": {
        "id": "JBYkaWRNt6_g"
      },
      "execution_count": 42,
      "outputs": []
    },
    {
      "cell_type": "markdown",
      "source": [
        "Now, let's reload the data while applying our data augmentation transforms. Notice that since we are no longer exploring the data by loading the entire dataset. Rather, we will train and test directly from the train/test loaders in batches. This would allow for training from datasets that are too large to fit in memory."
      ],
      "metadata": {
        "id": "vejoRIkgUpse"
      }
    },
    {
      "cell_type": "code",
      "metadata": {
        "collapsed": true,
        "id": "3xVnoarKp2fl"
      },
      "source": [
        "# Reload the MNIST data\n",
        "\n",
        "# Download, load, and transform the training data\n",
        "trainset = datasets.MNIST(root='./data', train=True, download=True, transform=train_transform)\n",
        "trainloader = torch.utils.data.DataLoader(trainset, batch_size=256, shuffle=True)\n",
        "\n",
        "# Download and load the test data\n",
        "testset = datasets.MNIST(root='./data', train=False, download=True, transform=test_transform)\n",
        "testloader = torch.utils.data.DataLoader(testset, batch_size=256, shuffle=False)\n"
      ],
      "execution_count": 43,
      "outputs": []
    },
    {
      "cell_type": "markdown",
      "source": [
        "# Question 11: Define ConvNet Model\n",
        "\n",
        "Define your criterion (loss function) and optimizer.\n",
        "Again, use cross entropy and Adam"
      ],
      "metadata": {
        "id": "_X3Ydt5XutL2"
      }
    },
    {
      "cell_type": "code",
      "source": [
        "# Instantiate the model, define the loss function and the optimizer\n",
        "model = SimpleCNN().to(device)\n",
        "criterion = None\n",
        "optimizer = None"
      ],
      "metadata": {
        "id": "8QHVDvFXVN62"
      },
      "execution_count": null,
      "outputs": []
    },
    {
      "cell_type": "code",
      "source": [
        "# Your Code Here\n",
        "\n",
        "criterion = torch.nn.CrossEntropyLoss()\n",
        "optimizer = torch.optim.Adam(model.parameters(), lr=0.001)"
      ],
      "metadata": {
        "id": "tRknLz59u4lK"
      },
      "execution_count": null,
      "outputs": []
    },
    {
      "cell_type": "code",
      "source": [
        "# Print the model summary\n",
        "summary(model, input_size=(1, 28, 28))"
      ],
      "metadata": {
        "id": "URDP0bHrmGJR"
      },
      "execution_count": null,
      "outputs": []
    },
    {
      "cell_type": "markdown",
      "source": [
        "**Notice that the model has FEWER trainable parameters than before! It's more complex, but overall smaller!** This is becuase of parameter sharing: each kernal is applied to the whole input, it's re-used rather than only trained on a specific part of the input image"
      ],
      "metadata": {
        "id": "3vO9HBJZmDiv"
      }
    },
    {
      "cell_type": "markdown",
      "source": [
        "# Training Loop\n",
        "If not using a GPU, this will run slowly."
      ],
      "metadata": {
        "id": "ldTKaiz6VJaO"
      }
    },
    {
      "cell_type": "code",
      "source": [
        "# Training the model\n",
        "NUM_EPOCHS = 5\n",
        "\n",
        "for epoch in range(NUM_EPOCHS):\n",
        "    running_loss = 0.0\n",
        "    correct = 0\n",
        "    total = 0\n",
        "    for images, labels in trainloader:\n",
        "        images, labels = images.to(device), labels.to(device)\n",
        "        optimizer.zero_grad()\n",
        "        outputs = model(images)\n",
        "        loss = criterion(outputs, labels)\n",
        "        loss.backward()\n",
        "        optimizer.step()\n",
        "\n",
        "        # Record Metrics\n",
        "        running_loss += loss.item()\n",
        "        _, predicted = torch.max(outputs.data, 1)\n",
        "        total += labels.size(0)\n",
        "        correct += (predicted == labels).sum().item()\n",
        "\n",
        "    epoch_loss = running_loss / len(trainloader)\n",
        "    epoch_accuracy = 100 * correct / total\n",
        "    print(f'Epoch [{epoch+1}/{NUM_EPOCHS}], Loss: {epoch_loss:.4f}, Training Accuracy: {epoch_accuracy:.2f}%')\n"
      ],
      "metadata": {
        "id": "pvHWh4jbonbE"
      },
      "execution_count": null,
      "outputs": []
    },
    {
      "cell_type": "markdown",
      "source": [
        "# Evaluate our model"
      ],
      "metadata": {
        "id": "ETQYSoJ-uNc8"
      }
    },
    {
      "cell_type": "code",
      "source": [
        "# Evaluating the model on the test set\n",
        "incorrect_images = []\n",
        "incorrect_labels = []\n",
        "correct_labels = []\n",
        "\n",
        "model.eval()\n",
        "with torch.no_grad():\n",
        "    correct = 0\n",
        "    total = 0\n",
        "    for images, labels in testloader:\n",
        "        images, labels = images.to(device), labels.to(device)\n",
        "        outputs = model(images)\n",
        "        _, predicted = torch.max(outputs.data, 1)\n",
        "        total += labels.size(0)\n",
        "        correct += (predicted == labels).sum().item()\n",
        "\n",
        "        incorrect = (predicted != labels)\n",
        "        incorrect_images.extend(images[incorrect])\n",
        "        incorrect_labels.extend(predicted[incorrect])\n",
        "        correct_labels.extend(labels[incorrect])\n",
        "\n",
        "    print(f'Accuracy of the model on the 10000 test images: {100 * correct / total:.2f}%')\n",
        "    print(f'Number of incorrect predictions: {total - correct}')"
      ],
      "metadata": {
        "id": "bdjeg2XOnex9"
      },
      "execution_count": null,
      "outputs": []
    },
    {
      "cell_type": "markdown",
      "source": [
        "Go check the number of incorrect predictions from the fully connected network. Now, we have far fewer incorrect predictions!"
      ],
      "metadata": {
        "id": "s600kYbSnlkr"
      }
    },
    {
      "cell_type": "markdown",
      "metadata": {
        "id": "NUNRKri1p2fn"
      },
      "source": [
        "# Great results!\n",
        "\n",
        "But wouldn't it be nice if we could visualize those convolutions so that we can see what the model is seeing?\n",
        "\n",
        " Visit https://adamharley.com/nn_vis/cnn/2d.html\n",
        "\n",
        "\n",
        " For a 3D visualization of a very similar network"
      ]
    },
    {
      "cell_type": "markdown",
      "metadata": {
        "id": "WUwtcRtJaCmE"
      },
      "source": [
        "# Examine incorrect predictions\n",
        "Again, let's look at a few that the model did not get correct.\n",
        "Many would be hard to discern even for a human! This is why achieving 100% accuracy is not possible."
      ]
    },
    {
      "cell_type": "code",
      "metadata": {
        "id": "Rxcc3ZBcZZZ9"
      },
      "source": [
        "import matplotlib.pyplot as plt\n",
        "%matplotlib inline\n",
        "\n",
        "plt.figure()\n",
        "for i, incorrect in enumerate(incorrect_images[:9]):\n",
        "    plt.subplot(3,3,i+1)\n",
        "    plt.imshow(incorrect.cpu().reshape(28,28), cmap='gray', interpolation='none')\n",
        "    plt.title(\"Pred: {}, Label: {}\".format(incorrect_labels[i], correct_labels[i]))\n",
        "\n",
        "plt.tight_layout()"
      ],
      "execution_count": null,
      "outputs": []
    },
    {
      "cell_type": "markdown",
      "metadata": {
        "id": "5mBldrYRZvwB"
      },
      "source": [
        "# Competition Round 2!\n",
        "\n",
        "Perform hyperparameter tuning to try to achieve a better performance.\n",
        "\n",
        "\n",
        "Experiment with adding layers, adjusting the number of kernels (output channels), kernel size, change pooling, change number of nodes in your hidden layer(s), removing dropout, increasing or decreasing the batch size, changing the number of epochs, change your learning rate, etc..\n",
        "\n",
        "\n",
        "Again, Winner gets bragging rights!\n"
      ]
    },
    {
      "cell_type": "markdown",
      "metadata": {
        "id": "fmjz3WVOq1Eh"
      },
      "source": [
        "```\n",
        "Some Resources used for this notebook:\n",
        "https://developers.google.com/machine-learning/crash-course/framing/ml-terminology\n",
        "\n",
        "[Daniel Moser (UT Southwestern Medical Center)](https://colab.research.google.com/github/AviatorMoser/keras-mnist-tutorial/blob/master/MNIST%20in%20Keras.ipynb),\n",
        "[Xavier Snelgrove](https://github.com/wxs/keras-mnist-tutorial),**bold text**\n",
        "[Yash Katariya](https://github.com/yashk2810/MNIST-Keras)\n",
        "```\n",
        "\n"
      ]
    },
    {
      "cell_type": "markdown",
      "source": [
        "[A great followup to this workshop is this video by Welch Labs, learn about the  historical advancements in Convolitional Neural Networks!](https://www.youtube.com/watch?v=UZDiGooFs54&ab_channel=WelchLabs)"
      ],
      "metadata": {
        "id": "10SccvKGtp_I"
      }
    },
    {
      "cell_type": "markdown",
      "source": [
        "[Continue the 3Blue1Brown series to learn about Large Language Models and GPTs](https://www.youtube.com/watch?v=wjZofJX0v4M&list=PLZHQObOWTQDNU6R1_67000Dx_ZCJB-3pi&index=6&ab_channel=3Blue1Brown)\n",
        "\n"
      ],
      "metadata": {
        "id": "BUCbCe6ftYkn"
      }
    },
    {
      "cell_type": "markdown",
      "source": [
        "[Watch this video for a technical deep dive on the seminal paper that launched the Large Language Model revolution](https://www.youtube.com/watch?v=iDulhoQ2pro&ab_channel=YannicKilcher)"
      ],
      "metadata": {
        "id": "_x8cvbkeODkA"
      }
    },
    {
      "cell_type": "code",
      "source": [],
      "metadata": {
        "id": "EUv4axhQtfNc"
      },
      "execution_count": null,
      "outputs": []
    },
    {
      "cell_type": "markdown",
      "source": [
        "[A general set of links to many ML projects and frameworks](https://machinelearningmastery.com/start-here/)\n"
      ],
      "metadata": {
        "id": "8d87lfgAO1d3"
      }
    },
    {
      "cell_type": "code",
      "source": [],
      "metadata": {
        "id": "hvpucNcIO8qR"
      },
      "execution_count": null,
      "outputs": []
    }
  ]
}